{
 "cells": [
  {
   "cell_type": "markdown",
   "id": "a70ef1f6-1d0b-4190-b67e-033935eca309",
   "metadata": {},
   "source": [
    "# Providing Custom Inputs to BertClassifier"
   ]
  },
  {
   "cell_type": "code",
   "execution_count": 50,
   "id": "d9ac6263-62dd-42b5-ac3a-2ae5f30534b3",
   "metadata": {},
   "outputs": [],
   "source": [
    "# import argparse\n",
    "import numpy as np\n",
    "import pandas as pd\n",
    "import torch\n",
    "import torch.nn as nn\n",
    "from datasets import Dataset, load_dataset\n",
    "from transformers import AutoTokenizer, AutoModel, TrainingArguments, Trainer\n",
    "from transformers.trainer_utils import set_seed\n",
    "from sklearn.metrics import accuracy_score, recall_score, precision_score, f1_score\n",
    "from utils import *\n",
    "\n",
    "import torch\n",
    "import torch.nn as nn\n",
    "from transformers import TrainingArguments, Trainer\n",
    "import transformers.trainer\n",
    "from transformers.trainer import *\n",
    "from transformers.modeling_outputs import SequenceClassifierOutput\n",
    "\n",
    "device = 'cuda' if torch.cuda.is_available() else 'cpu'"
   ]
  },
  {
   "cell_type": "code",
   "execution_count": 51,
   "id": "848e66ed-d123-4e49-b247-695487e7b002",
   "metadata": {},
   "outputs": [],
   "source": [
    "def extractEuphIdx(tokenizer, input):\n",
    "    \"\"\"\n",
    "    input is list of numbers\n",
    "    \"\"\"\n",
    "    start_euph_idx = len(tokenizer)-2\n",
    "    start_idx = (input==start_euph_idx).nonzero().squeeze()\n",
    "    end_idx = (input==start_euph_idx+1).nonzero().squeeze()\n",
    "    euph_idx = [idx for idx in range(start_idx+1, end_idx)]\n",
    "    return euph_idx\n",
    "\n",
    "class PET_layer(nn.Module):\n",
    "    def __init__(self, tokenizer, pet_dim, device):\n",
    "        super(PET_layer, self).__init__()\n",
    "        self.tokenizer = tokenizer\n",
    "        self.pet_dim = pet_dim\n",
    "        self.device = device\n",
    "        self.linear1 = nn.Linear(pet_dim, pet_dim)\n",
    "        self.dropout = nn.Dropout(0.1)\n",
    "        self.linear2 = nn.Linear(pet_dim, 2)\n",
    "\n",
    "    def forward(self, inputs, input_ids):\n",
    "        euph_tensor = torch.zeros([inputs.shape[0], inputs.shape[-1]]).to(self.device)\n",
    "        for i in range(input_ids.shape[0]):\n",
    "            idxs = extractEuphIdx(self.tokenizer, input_ids[i])\n",
    "            for j in idxs:\n",
    "                euph_tensor[i] += inputs[i][j]\n",
    "        out = self.linear2(self.dropout(self.linear1(euph_tensor)))\n",
    "        return out"
   ]
  },
  {
   "cell_type": "markdown",
   "id": "bf52a664-b21c-4a66-9566-ee52f7a277b6",
   "metadata": {},
   "source": [
    "## Data Prep"
   ]
  },
  {
   "cell_type": "code",
   "execution_count": 58,
   "id": "74942618-23d2-4eb5-88d3-f09ae943a81f",
   "metadata": {},
   "outputs": [],
   "source": [
    "train_path = 'shared_task_train.csv'\n",
    "test_path = 'shared_task_test.csv'\n",
    "df_train = pd.read_csv(train_path).drop(['index'], axis=1)\n",
    "# df_val = pd.read_csv(args.valid_path).drop(['index'], axis=1)\n",
    "df_test = pd.read_csv(test_path).drop(['index'], axis=1)\n",
    "\n",
    "# Remove the @@@ stuff\n",
    "df_train['utterance'] = df_train.apply(lambda row: clean(row['utterance']), axis=1)\n",
    "# df_val['utterance'] = df_val.apply(lambda row: clean(row['utterance']), axis=1)\n",
    "df_test['utterance'] = df_test.apply(lambda row: clean(row['utterance']), axis=1)\n",
    "\n",
    "df_train['utterance'] = df_train.apply(lambda row : row['utterance'].replace(\"<\", \"[START_EUPH] \").replace(\">\", \" [END_EUPH]\"), axis=1)\n",
    "# df_val['utterance'] = df_val.apply(lambda row : row['utterance'].replace(\"<\", \"[START_EUPH] \").replace(\">\", \" [END_EUPH]\"), axis=1)\n",
    "df_test['utterance'] = df_test.apply(lambda row : row['utterance'].replace(\"<\", \"[START_EUPH] \").replace(\">\", \" [END_EUPH]\"), axis=1)\n",
    "\n",
    "df_train.to_csv(\"shared_task_train_processed.csv\")\n",
    "df_test.to_csv(\"shared_task_test_processed.csv\")"
   ]
  },
  {
   "cell_type": "code",
   "execution_count": 60,
   "id": "a1a204d4-e28c-417d-9a65-be109075edbf",
   "metadata": {},
   "outputs": [
    {
     "name": "stderr",
     "output_type": "stream",
     "text": [
      "Using custom data configuration default-2a13dedf8230a926\n"
     ]
    },
    {
     "name": "stdout",
     "output_type": "stream",
     "text": [
      "Downloading and preparing dataset csv/default to /home/leep/.cache/huggingface/datasets/csv/default-2a13dedf8230a926/0.0.0/6b34fb8fcf56f7c8ba51dc895bfa2bfbe43546f190a60fcf74bb5e8afdcc2317...\n"
     ]
    },
    {
     "data": {
      "application/vnd.jupyter.widget-view+json": {
       "model_id": "3b27c1addb5d41ae973dd381a4fe8900",
       "version_major": 2,
       "version_minor": 0
      },
      "text/plain": [
       "Downloading data files:   0%|          | 0/1 [00:00<?, ?it/s]"
      ]
     },
     "metadata": {},
     "output_type": "display_data"
    },
    {
     "data": {
      "application/vnd.jupyter.widget-view+json": {
       "model_id": "6a059daf9a0d4b05af2e25dab783645d",
       "version_major": 2,
       "version_minor": 0
      },
      "text/plain": [
       "Extracting data files:   0%|          | 0/1 [00:00<?, ?it/s]"
      ]
     },
     "metadata": {},
     "output_type": "display_data"
    },
    {
     "data": {
      "application/vnd.jupyter.widget-view+json": {
       "model_id": "",
       "version_major": 2,
       "version_minor": 0
      },
      "text/plain": [
       "Generating train split: 0 examples [00:00, ? examples/s]"
      ]
     },
     "metadata": {},
     "output_type": "display_data"
    },
    {
     "name": "stdout",
     "output_type": "stream",
     "text": [
      "Dataset csv downloaded and prepared to /home/leep/.cache/huggingface/datasets/csv/default-2a13dedf8230a926/0.0.0/6b34fb8fcf56f7c8ba51dc895bfa2bfbe43546f190a60fcf74bb5e8afdcc2317. Subsequent calls will reuse this data.\n"
     ]
    },
    {
     "data": {
      "application/vnd.jupyter.widget-view+json": {
       "model_id": "a3f3a63e936049dfa872c3c9bfcd6ea0",
       "version_major": 2,
       "version_minor": 0
      },
      "text/plain": [
       "  0%|          | 0/1 [00:00<?, ?it/s]"
      ]
     },
     "metadata": {},
     "output_type": "display_data"
    },
    {
     "name": "stderr",
     "output_type": "stream",
     "text": [
      "Using custom data configuration default-5294fd14ceb3fac4\n"
     ]
    },
    {
     "name": "stdout",
     "output_type": "stream",
     "text": [
      "Downloading and preparing dataset csv/default to /home/leep/.cache/huggingface/datasets/csv/default-5294fd14ceb3fac4/0.0.0/6b34fb8fcf56f7c8ba51dc895bfa2bfbe43546f190a60fcf74bb5e8afdcc2317...\n"
     ]
    },
    {
     "data": {
      "application/vnd.jupyter.widget-view+json": {
       "model_id": "232a830e755d453187033c189f3302f1",
       "version_major": 2,
       "version_minor": 0
      },
      "text/plain": [
       "Downloading data files:   0%|          | 0/1 [00:00<?, ?it/s]"
      ]
     },
     "metadata": {},
     "output_type": "display_data"
    },
    {
     "data": {
      "application/vnd.jupyter.widget-view+json": {
       "model_id": "c8f174885b044615a2ae2ee4d29b1fa0",
       "version_major": 2,
       "version_minor": 0
      },
      "text/plain": [
       "Extracting data files:   0%|          | 0/1 [00:00<?, ?it/s]"
      ]
     },
     "metadata": {},
     "output_type": "display_data"
    },
    {
     "data": {
      "application/vnd.jupyter.widget-view+json": {
       "model_id": "",
       "version_major": 2,
       "version_minor": 0
      },
      "text/plain": [
       "Generating train split: 0 examples [00:00, ? examples/s]"
      ]
     },
     "metadata": {},
     "output_type": "display_data"
    },
    {
     "name": "stdout",
     "output_type": "stream",
     "text": [
      "Dataset csv downloaded and prepared to /home/leep/.cache/huggingface/datasets/csv/default-5294fd14ceb3fac4/0.0.0/6b34fb8fcf56f7c8ba51dc895bfa2bfbe43546f190a60fcf74bb5e8afdcc2317. Subsequent calls will reuse this data.\n"
     ]
    },
    {
     "data": {
      "application/vnd.jupyter.widget-view+json": {
       "model_id": "0a85bf1aee6a4e46a23729b40b16eec0",
       "version_major": 2,
       "version_minor": 0
      },
      "text/plain": [
       "  0%|          | 0/1 [00:00<?, ?it/s]"
      ]
     },
     "metadata": {},
     "output_type": "display_data"
    }
   ],
   "source": [
    "# data_files = {'train': 'train.csv', 'test': 'test.csv'}\n",
    "# ds = load_dataset('namespace/your_dataset_name', data_files=data_files)\n",
    "train_dataset = load_dataset('csv', data_files='shared_task_train_processed.csv')\n",
    "test_dataset = load_dataset('csv', data_files='shared_task_test_processed.csv')\n",
    "\n",
    "# train_dataset = Dataset.from_pandas(df_train)\n",
    "# # val_dataset = Dataset.from_pandas(df_val)\n",
    "# test_dataset = Dataset.from_pandas(df_test)"
   ]
  },
  {
   "cell_type": "markdown",
   "id": "fb2773ce-3446-44e6-9983-d7235e47aa53",
   "metadata": {},
   "source": [
    "## Model Prep"
   ]
  },
  {
   "cell_type": "code",
   "execution_count": 61,
   "id": "b676f13e-97c1-4c65-b9bb-6b51be99dfc5",
   "metadata": {},
   "outputs": [
    {
     "name": "stderr",
     "output_type": "stream",
     "text": [
      "Could not locate the tokenizer configuration file, will try to use the model config instead.\n",
      "loading configuration file config.json from cache at /home/leep/.cache/huggingface/hub/models--roberta-large/snapshots/5069d8a2a32a7df4c69ef9b56348be04152a2341/config.json\n",
      "Model config RobertaConfig {\n",
      "  \"_name_or_path\": \"roberta-large\",\n",
      "  \"architectures\": [\n",
      "    \"RobertaForMaskedLM\"\n",
      "  ],\n",
      "  \"attention_probs_dropout_prob\": 0.1,\n",
      "  \"bos_token_id\": 0,\n",
      "  \"classifier_dropout\": null,\n",
      "  \"eos_token_id\": 2,\n",
      "  \"hidden_act\": \"gelu\",\n",
      "  \"hidden_dropout_prob\": 0.1,\n",
      "  \"hidden_size\": 1024,\n",
      "  \"initializer_range\": 0.02,\n",
      "  \"intermediate_size\": 4096,\n",
      "  \"layer_norm_eps\": 1e-05,\n",
      "  \"max_position_embeddings\": 514,\n",
      "  \"model_type\": \"roberta\",\n",
      "  \"num_attention_heads\": 16,\n",
      "  \"num_hidden_layers\": 24,\n",
      "  \"pad_token_id\": 1,\n",
      "  \"position_embedding_type\": \"absolute\",\n",
      "  \"transformers_version\": \"4.26.0\",\n",
      "  \"type_vocab_size\": 1,\n",
      "  \"use_cache\": true,\n",
      "  \"vocab_size\": 50265\n",
      "}\n",
      "\n",
      "loading file vocab.json from cache at /home/leep/.cache/huggingface/hub/models--roberta-large/snapshots/5069d8a2a32a7df4c69ef9b56348be04152a2341/vocab.json\n",
      "loading file merges.txt from cache at /home/leep/.cache/huggingface/hub/models--roberta-large/snapshots/5069d8a2a32a7df4c69ef9b56348be04152a2341/merges.txt\n",
      "loading file tokenizer.json from cache at /home/leep/.cache/huggingface/hub/models--roberta-large/snapshots/5069d8a2a32a7df4c69ef9b56348be04152a2341/tokenizer.json\n",
      "loading file added_tokens.json from cache at None\n",
      "loading file special_tokens_map.json from cache at None\n",
      "loading file tokenizer_config.json from cache at None\n",
      "loading configuration file config.json from cache at /home/leep/.cache/huggingface/hub/models--roberta-large/snapshots/5069d8a2a32a7df4c69ef9b56348be04152a2341/config.json\n",
      "Model config RobertaConfig {\n",
      "  \"_name_or_path\": \"roberta-large\",\n",
      "  \"architectures\": [\n",
      "    \"RobertaForMaskedLM\"\n",
      "  ],\n",
      "  \"attention_probs_dropout_prob\": 0.1,\n",
      "  \"bos_token_id\": 0,\n",
      "  \"classifier_dropout\": null,\n",
      "  \"eos_token_id\": 2,\n",
      "  \"hidden_act\": \"gelu\",\n",
      "  \"hidden_dropout_prob\": 0.1,\n",
      "  \"hidden_size\": 1024,\n",
      "  \"initializer_range\": 0.02,\n",
      "  \"intermediate_size\": 4096,\n",
      "  \"layer_norm_eps\": 1e-05,\n",
      "  \"max_position_embeddings\": 514,\n",
      "  \"model_type\": \"roberta\",\n",
      "  \"num_attention_heads\": 16,\n",
      "  \"num_hidden_layers\": 24,\n",
      "  \"pad_token_id\": 1,\n",
      "  \"position_embedding_type\": \"absolute\",\n",
      "  \"transformers_version\": \"4.26.0\",\n",
      "  \"type_vocab_size\": 1,\n",
      "  \"use_cache\": true,\n",
      "  \"vocab_size\": 50265\n",
      "}\n",
      "\n",
      "Assigning ['[START_EUPH]', '[END_EUPH]'] to the additional_special_tokens key of the tokenizer\n"
     ]
    },
    {
     "data": {
      "application/vnd.jupyter.widget-view+json": {
       "model_id": "5db1ac9ed2264eac8b7216d74f12c49f",
       "version_major": 2,
       "version_minor": 0
      },
      "text/plain": [
       "  0%|          | 0/2 [00:00<?, ?ba/s]"
      ]
     },
     "metadata": {},
     "output_type": "display_data"
    },
    {
     "data": {
      "application/vnd.jupyter.widget-view+json": {
       "model_id": "b402db9a4356428a8dfbcfdf4161b681",
       "version_major": 2,
       "version_minor": 0
      },
      "text/plain": [
       "  0%|          | 0/1 [00:00<?, ?ba/s]"
      ]
     },
     "metadata": {},
     "output_type": "display_data"
    },
    {
     "name": "stderr",
     "output_type": "stream",
     "text": [
      "PyTorch: setting up devices\n",
      "The default value for the training argument `--report_to` will change in v5 (from all installed integrations to none). In v5, you will need to use `--report_to all` to get the same behavior as now. You should start updating your code and make this info disappear :-).\n"
     ]
    }
   ],
   "source": [
    "tokenizer = AutoTokenizer.from_pretrained('roberta-large')\n",
    "special_tokens_dict = {'additional_special_tokens': ['[START_EUPH]','[END_EUPH]']}\n",
    "tokenizer.add_special_tokens(special_tokens_dict)\n",
    "    \n",
    "train_tokenized = train_dataset.map(lambda batch: tokenizer(batch['utterance'], max_length=256, padding=\"max_length\", truncation=True), batched=True, load_from_cache_file=False)\n",
    "# val_tokenized = val_dataset.map(lambda batch: tokenizer(batch['utterance'], max_length=args.max_length, padding=\"max_length\", truncation=True), batched=True, load_from_cache_file=False)\n",
    "test_tokenized = test_dataset.map(lambda batch: tokenizer(batch['utterance'], max_length=256, padding=\"max_length\", truncation=True), batched=True, load_from_cache_file=False)\n",
    "\n",
    "trainer_args = TrainingArguments(\n",
    "    output_dir = \"RoBERTa-large-PET\",\n",
    "    evaluation_strategy = \"epoch\",\n",
    "    save_strategy = 'epoch',\n",
    "    # save_strategy = 'NO',\n",
    "    per_device_train_batch_size = 4,\n",
    "    per_device_eval_batch_size = 4,\n",
    "    num_train_epochs = 10,\n",
    "    seed = 111,\n",
    "    load_best_model_at_end=True,\n",
    "    learning_rate = 5e-6\n",
    ")"
   ]
  },
  {
   "cell_type": "code",
   "execution_count": 62,
   "id": "365f1500-0db7-4922-b242-3d9b0dc638c0",
   "metadata": {},
   "outputs": [],
   "source": [
    "def model_init():\n",
    "    model = AutoModel.from_pretrained(\"roberta-large\")\n",
    "    model.resize_token_embeddings(len(tokenizer))\n",
    "    model.pooler = nn.Identity()\n",
    "    model.pet = PET_layer(tokenizer, 1024, device)\n",
    "    # if args.model_type == \"cls\":\n",
    "    #     model.cls_layer = CLS_Layer(args.pet_dim, device)\n",
    "    # elif args.model_type == \"pet\":\n",
    "    #     model.pooler = nn.Identity()\n",
    "    #     model.pet = PET_layer(tokenizer, args.pet_dim, device)\n",
    "    # elif args.model_type == \"dan\":\n",
    "    #     model.pooler = nn.Identity()\n",
    "    #     model.pet = Sent_DAN_Simple(tokenizer, args.pet_dim, device)\n",
    "    # else:\n",
    "    #     raise NotImplementedError\n",
    "    return model\n",
    "\n",
    "def compute_metrics(p):    \n",
    "    pred, labels = p\n",
    "    pred = np.argmax(pred, axis=1)\n",
    "    accuracy = accuracy_score(y_true=labels, y_pred=pred)\n",
    "    recall = recall_score(y_true=labels, y_pred=pred, average='macro')\n",
    "    precision = precision_score(y_true=labels, y_pred=pred, average='macro')\n",
    "    f1 = f1_score(y_true=labels, y_pred=pred, average='macro')\n",
    "    return {\"accuracy\": accuracy, \"precision\": precision, \"recall\": recall, \"f1\": f1}"
   ]
  },
  {
   "cell_type": "code",
   "execution_count": 63,
   "id": "ebc22418-a838-48bd-8c88-9396ee69b6d0",
   "metadata": {
    "tags": []
   },
   "outputs": [],
   "source": [
    "# the way it's currently set up (I think because of load_dataset, which is required for mapping during preprocessing), \n",
    "# the actual tokenized text entries required by trainer are accessed not in the dataset itself but by the 'train' key IN the dataset\n",
    "# to specify to trainer, set these variables equal to the text...\n",
    "train_tokenized = train_tokenized['train']\n",
    "test_tokenized = test_tokenized['train']"
   ]
  },
  {
   "cell_type": "code",
   "execution_count": 64,
   "id": "2c1d48a1-33ec-46b8-8bcf-0ea0250196d1",
   "metadata": {},
   "outputs": [],
   "source": [
    "class MyTrainer(Trainer):\n",
    "    def __init__(self, *args, **kwargs):\n",
    "        super().__init__(*args, **kwargs)\n",
    "    \n",
    "    def compute_loss(self, model, inputs, return_outputs=False):\n",
    "        \"\"\"\n",
    "        How the loss is computed by Trainer. By default, all models return the loss in the first element.\n",
    "        Subclass and override for custom behavior.\n",
    "        \"\"\"\n",
    "        if self.label_smoother is not None and \"labels\" in inputs:\n",
    "            labels = inputs.pop(\"labels\")\n",
    "        else:\n",
    "            labels = None\n",
    "\n",
    "        outputs = model(input_ids=inputs['input_ids'], attention_mask=inputs['attention_mask'])\n",
    "        last_hidden_state = outputs['last_hidden_state']\n",
    "        try:\n",
    "            logits = model.pet(last_hidden_state, inputs['input_ids'])\n",
    "        except:\n",
    "            try:\n",
    "                logits = model.module.pet(last_hidden_state, inputs['input_ids'])\n",
    "            except:\n",
    "                logits = model.cls_layer(outputs['pooler_output'])\n",
    "        loss_fct = nn.CrossEntropyLoss()\n",
    "        loss = loss_fct(logits, inputs['labels'])\n",
    "        outputs = SequenceClassifierOutput(loss=loss, logits=logits)\n",
    "\n",
    "        # Save past state if it exists\n",
    "        # TODO: this needs to be fixed and made cleaner later.\n",
    "        if self.args.past_index >= 0:\n",
    "            self._past = outputs[self.args.past_index]\n",
    "\n",
    "        if labels is not None:\n",
    "            loss = self.label_smoother(outputs, labels)\n",
    "        else:\n",
    "            # We don't use .loss here since the model may return tuples instead of ModelOutput.\n",
    "            loss = outputs[\"loss\"] if isinstance(outputs, dict) else outputs[0]\n",
    "\n",
    "        return (loss, outputs) if return_outputs else loss\n",
    "\n",
    "    def prediction_step(\n",
    "        self,\n",
    "        model: nn.Module,\n",
    "        inputs: Dict[str, Union[torch.Tensor, Any]],\n",
    "        prediction_loss_only: bool,\n",
    "        ignore_keys: Optional[List[str]] = None,\n",
    "    ) -> Tuple[Optional[torch.Tensor], Optional[torch.Tensor], Optional[torch.Tensor]]:\n",
    "        \"\"\"\n",
    "        Perform an evaluation step on `model` using `inputs`.\n",
    "        Subclass and override to inject custom behavior.\n",
    "        Args:\n",
    "            model (`nn.Module`):\n",
    "                The model to evaluate.\n",
    "            inputs (`Dict[str, Union[torch.Tensor, Any]]`):\n",
    "                The inputs and targets of the model.\n",
    "                The dictionary will be unpacked before being fed to the model. Most models expect the targets under the\n",
    "                argument `labels`. Check your model's documentation for all accepted arguments.\n",
    "            prediction_loss_only (`bool`):\n",
    "                Whether or not to return the loss only.\n",
    "            ignore_keys (`Lst[str]`, *optional*):\n",
    "                A list of keys in the output of your model (if it is a dictionary) that should be ignored when\n",
    "                gathering predictions.\n",
    "        Return:\n",
    "            Tuple[Optional[torch.Tensor], Optional[torch.Tensor], Optional[torch.Tensor]]: A tuple with the loss,\n",
    "            logits and labels (each being optional).\n",
    "        \"\"\"\n",
    "        has_labels = all(inputs.get(k) is not None for k in self.label_names)\n",
    "        inputs = self._prepare_inputs(inputs)\n",
    "        if ignore_keys is None:\n",
    "            if hasattr(self.model, \"config\"):\n",
    "                ignore_keys = getattr(self.model.config, \"keys_to_ignore_at_inference\", [])\n",
    "            else:\n",
    "                ignore_keys = []\n",
    "\n",
    "        # labels may be popped when computing the loss (label smoothing for instance) so we grab them first.\n",
    "        if has_labels:\n",
    "            labels = nested_detach(tuple(inputs.get(name) for name in self.label_names))\n",
    "            if len(labels) == 1:\n",
    "                labels = labels[0]\n",
    "        else:\n",
    "            labels = None\n",
    "\n",
    "        with torch.no_grad():\n",
    "            if is_sagemaker_mp_enabled():\n",
    "                raw_outputs = smp_forward_only(model, inputs)\n",
    "                if has_labels:\n",
    "                    if isinstance(raw_outputs, dict):\n",
    "                        loss_mb = raw_outputs[\"loss\"]\n",
    "                        logits_mb = tuple(v for k, v in raw_outputs.items() if k not in ignore_keys + [\"loss\"])\n",
    "                    else:\n",
    "                        loss_mb = raw_outputs[0]\n",
    "                        logits_mb = raw_outputs[1:]\n",
    "\n",
    "                    loss = loss_mb.reduce_mean().detach().cpu()\n",
    "                    logits = smp_nested_concat(logits_mb)\n",
    "                else:\n",
    "                    loss = None\n",
    "                    if isinstance(raw_outputs, dict):\n",
    "                        logits_mb = tuple(v for k, v in raw_outputs.items() if k not in ignore_keys)\n",
    "                    else:\n",
    "                        logits_mb = raw_outputs\n",
    "                    logits = smp_nested_concat(logits_mb)\n",
    "            else:\n",
    "                if has_labels:\n",
    "                    with self.compute_loss_context_manager():\n",
    "                        loss, outputs = self.compute_loss(model, inputs, return_outputs=True)\n",
    "                    loss = loss.mean().detach()\n",
    "\n",
    "                    if isinstance(outputs, dict):\n",
    "                        logits = tuple(v for k, v in outputs.items() if k not in ignore_keys + [\"loss\"])\n",
    "                    else:\n",
    "                        logits = outputs[1:]\n",
    "                else:\n",
    "                    loss = None\n",
    "                    with self.compute_loss_context_manager():\n",
    "                        outputs = model(**inputs)\n",
    "                    if isinstance(outputs, dict):\n",
    "                        logits = tuple(v for k, v in outputs.items() if k not in ignore_keys)\n",
    "                    else:\n",
    "                        logits = outputs\n",
    "                    # TODO: this needs to be fixed and made cleaner later.\n",
    "                    if self.args.past_index >= 0:\n",
    "                        self._past = outputs[self.args.past_index - 1]\n",
    "\n",
    "        if prediction_loss_only:\n",
    "            return (loss, None, None)\n",
    "\n",
    "        logits = nested_detach(logits)\n",
    "        if len(logits) == 1:\n",
    "            logits = logits[0]\n",
    "\n",
    "        labels = inputs['labels']\n",
    "        return (loss, logits, labels)"
   ]
  },
  {
   "cell_type": "code",
   "execution_count": 65,
   "id": "77512d47-3cd3-4262-bbbc-53fb63cfff0f",
   "metadata": {},
   "outputs": [
    {
     "name": "stderr",
     "output_type": "stream",
     "text": [
      "loading configuration file config.json from cache at /home/leep/.cache/huggingface/hub/models--roberta-large/snapshots/5069d8a2a32a7df4c69ef9b56348be04152a2341/config.json\n",
      "Model config RobertaConfig {\n",
      "  \"_name_or_path\": \"roberta-large\",\n",
      "  \"architectures\": [\n",
      "    \"RobertaForMaskedLM\"\n",
      "  ],\n",
      "  \"attention_probs_dropout_prob\": 0.1,\n",
      "  \"bos_token_id\": 0,\n",
      "  \"classifier_dropout\": null,\n",
      "  \"eos_token_id\": 2,\n",
      "  \"hidden_act\": \"gelu\",\n",
      "  \"hidden_dropout_prob\": 0.1,\n",
      "  \"hidden_size\": 1024,\n",
      "  \"initializer_range\": 0.02,\n",
      "  \"intermediate_size\": 4096,\n",
      "  \"layer_norm_eps\": 1e-05,\n",
      "  \"max_position_embeddings\": 514,\n",
      "  \"model_type\": \"roberta\",\n",
      "  \"num_attention_heads\": 16,\n",
      "  \"num_hidden_layers\": 24,\n",
      "  \"pad_token_id\": 1,\n",
      "  \"position_embedding_type\": \"absolute\",\n",
      "  \"transformers_version\": \"4.26.0\",\n",
      "  \"type_vocab_size\": 1,\n",
      "  \"use_cache\": true,\n",
      "  \"vocab_size\": 50265\n",
      "}\n",
      "\n",
      "loading weights file pytorch_model.bin from cache at /home/leep/.cache/huggingface/hub/models--roberta-large/snapshots/5069d8a2a32a7df4c69ef9b56348be04152a2341/pytorch_model.bin\n",
      "Some weights of the model checkpoint at roberta-large were not used when initializing RobertaModel: ['lm_head.dense.weight', 'lm_head.bias', 'lm_head.layer_norm.weight', 'lm_head.decoder.weight', 'lm_head.dense.bias', 'lm_head.layer_norm.bias']\n",
      "- This IS expected if you are initializing RobertaModel from the checkpoint of a model trained on another task or with another architecture (e.g. initializing a BertForSequenceClassification model from a BertForPreTraining model).\n",
      "- This IS NOT expected if you are initializing RobertaModel from the checkpoint of a model that you expect to be exactly identical (initializing a BertForSequenceClassification model from a BertForSequenceClassification model).\n",
      "All the weights of RobertaModel were initialized from the model checkpoint at roberta-large.\n",
      "If your task is similar to the task the model of the checkpoint was trained on, you can already use RobertaModel for predictions without further training.\n",
      "loading configuration file config.json from cache at /home/leep/.cache/huggingface/hub/models--roberta-large/snapshots/5069d8a2a32a7df4c69ef9b56348be04152a2341/config.json\n",
      "Model config RobertaConfig {\n",
      "  \"_name_or_path\": \"roberta-large\",\n",
      "  \"architectures\": [\n",
      "    \"RobertaForMaskedLM\"\n",
      "  ],\n",
      "  \"attention_probs_dropout_prob\": 0.1,\n",
      "  \"bos_token_id\": 0,\n",
      "  \"classifier_dropout\": null,\n",
      "  \"eos_token_id\": 2,\n",
      "  \"hidden_act\": \"gelu\",\n",
      "  \"hidden_dropout_prob\": 0.1,\n",
      "  \"hidden_size\": 1024,\n",
      "  \"initializer_range\": 0.02,\n",
      "  \"intermediate_size\": 4096,\n",
      "  \"layer_norm_eps\": 1e-05,\n",
      "  \"max_position_embeddings\": 514,\n",
      "  \"model_type\": \"roberta\",\n",
      "  \"num_attention_heads\": 16,\n",
      "  \"num_hidden_layers\": 24,\n",
      "  \"pad_token_id\": 1,\n",
      "  \"position_embedding_type\": \"absolute\",\n",
      "  \"transformers_version\": \"4.26.0\",\n",
      "  \"type_vocab_size\": 1,\n",
      "  \"use_cache\": true,\n",
      "  \"vocab_size\": 50265\n",
      "}\n",
      "\n",
      "loading weights file pytorch_model.bin from cache at /home/leep/.cache/huggingface/hub/models--roberta-large/snapshots/5069d8a2a32a7df4c69ef9b56348be04152a2341/pytorch_model.bin\n",
      "Some weights of the model checkpoint at roberta-large were not used when initializing RobertaModel: ['lm_head.dense.weight', 'lm_head.bias', 'lm_head.layer_norm.weight', 'lm_head.decoder.weight', 'lm_head.dense.bias', 'lm_head.layer_norm.bias']\n",
      "- This IS expected if you are initializing RobertaModel from the checkpoint of a model trained on another task or with another architecture (e.g. initializing a BertForSequenceClassification model from a BertForPreTraining model).\n",
      "- This IS NOT expected if you are initializing RobertaModel from the checkpoint of a model that you expect to be exactly identical (initializing a BertForSequenceClassification model from a BertForSequenceClassification model).\n",
      "All the weights of RobertaModel were initialized from the model checkpoint at roberta-large.\n",
      "If your task is similar to the task the model of the checkpoint was trained on, you can already use RobertaModel for predictions without further training.\n",
      "The following columns in the training set don't have a corresponding argument in `RobertaModel.forward` and have been ignored: utterance, Unnamed: 0. If utterance, Unnamed: 0 are not expected by `RobertaModel.forward`,  you can safely ignore this message.\n",
      "/home/leep/.local/lib/python3.7/site-packages/transformers/optimization.py:310: FutureWarning: This implementation of AdamW is deprecated and will be removed in a future version. Use the PyTorch implementation torch.optim.AdamW instead, or set `no_deprecation_warning=True` to disable this warning\n",
      "  FutureWarning,\n",
      "***** Running training *****\n",
      "  Num examples = 1572\n",
      "  Num Epochs = 10\n",
      "  Instantaneous batch size per device = 4\n",
      "  Total train batch size (w. parallel, distributed & accumulation) = 16\n",
      "  Gradient Accumulation steps = 1\n",
      "  Total optimization steps = 990\n",
      "  Number of trainable parameters = 355363842\n"
     ]
    },
    {
     "data": {
      "text/html": [
       "\n",
       "    <div>\n",
       "      \n",
       "      <progress value='990' max='990' style='width:300px; height:20px; vertical-align: middle;'></progress>\n",
       "      [990/990 16:38, Epoch 10/10]\n",
       "    </div>\n",
       "    <table border=\"1\" class=\"dataframe\">\n",
       "  <thead>\n",
       " <tr style=\"text-align: left;\">\n",
       "      <th>Epoch</th>\n",
       "      <th>Training Loss</th>\n",
       "      <th>Validation Loss</th>\n",
       "      <th>Accuracy</th>\n",
       "      <th>Precision</th>\n",
       "      <th>Recall</th>\n",
       "      <th>F1</th>\n",
       "    </tr>\n",
       "  </thead>\n",
       "  <tbody>\n",
       "    <tr>\n",
       "      <td>1</td>\n",
       "      <td>No log</td>\n",
       "      <td>0.353342</td>\n",
       "      <td>0.860051</td>\n",
       "      <td>0.830390</td>\n",
       "      <td>0.841276</td>\n",
       "      <td>0.835433</td>\n",
       "    </tr>\n",
       "    <tr>\n",
       "      <td>2</td>\n",
       "      <td>No log</td>\n",
       "      <td>0.313288</td>\n",
       "      <td>0.877863</td>\n",
       "      <td>0.857533</td>\n",
       "      <td>0.846572</td>\n",
       "      <td>0.851726</td>\n",
       "    </tr>\n",
       "    <tr>\n",
       "      <td>3</td>\n",
       "      <td>No log</td>\n",
       "      <td>0.356821</td>\n",
       "      <td>0.872774</td>\n",
       "      <td>0.846961</td>\n",
       "      <td>0.850334</td>\n",
       "      <td>0.848613</td>\n",
       "    </tr>\n",
       "    <tr>\n",
       "      <td>4</td>\n",
       "      <td>No log</td>\n",
       "      <td>0.410340</td>\n",
       "      <td>0.877863</td>\n",
       "      <td>0.850687</td>\n",
       "      <td>0.863805</td>\n",
       "      <td>0.856709</td>\n",
       "    </tr>\n",
       "    <tr>\n",
       "      <td>5</td>\n",
       "      <td>No log</td>\n",
       "      <td>0.516579</td>\n",
       "      <td>0.877863</td>\n",
       "      <td>0.852987</td>\n",
       "      <td>0.856420</td>\n",
       "      <td>0.854669</td>\n",
       "    </tr>\n",
       "    <tr>\n",
       "      <td>6</td>\n",
       "      <td>0.190800</td>\n",
       "      <td>0.568931</td>\n",
       "      <td>0.882952</td>\n",
       "      <td>0.862437</td>\n",
       "      <td>0.855119</td>\n",
       "      <td>0.858633</td>\n",
       "    </tr>\n",
       "    <tr>\n",
       "      <td>7</td>\n",
       "      <td>0.190800</td>\n",
       "      <td>0.674428</td>\n",
       "      <td>0.888041</td>\n",
       "      <td>0.861746</td>\n",
       "      <td>0.878437</td>\n",
       "      <td>0.869246</td>\n",
       "    </tr>\n",
       "    <tr>\n",
       "      <td>8</td>\n",
       "      <td>0.190800</td>\n",
       "      <td>0.692524</td>\n",
       "      <td>0.885496</td>\n",
       "      <td>0.859845</td>\n",
       "      <td>0.871702</td>\n",
       "      <td>0.865355</td>\n",
       "    </tr>\n",
       "    <tr>\n",
       "      <td>9</td>\n",
       "      <td>0.190800</td>\n",
       "      <td>0.709454</td>\n",
       "      <td>0.890585</td>\n",
       "      <td>0.866584</td>\n",
       "      <td>0.875325</td>\n",
       "      <td>0.870737</td>\n",
       "    </tr>\n",
       "    <tr>\n",
       "      <td>10</td>\n",
       "      <td>0.190800</td>\n",
       "      <td>0.724477</td>\n",
       "      <td>0.890585</td>\n",
       "      <td>0.866584</td>\n",
       "      <td>0.875325</td>\n",
       "      <td>0.870737</td>\n",
       "    </tr>\n",
       "  </tbody>\n",
       "</table><p>"
      ],
      "text/plain": [
       "<IPython.core.display.HTML object>"
      ]
     },
     "metadata": {},
     "output_type": "display_data"
    },
    {
     "name": "stderr",
     "output_type": "stream",
     "text": [
      "The following columns in the evaluation set don't have a corresponding argument in `RobertaModel.forward` and have been ignored: utterance, Unnamed: 0. If utterance, Unnamed: 0 are not expected by `RobertaModel.forward`,  you can safely ignore this message.\n",
      "***** Running Evaluation *****\n",
      "  Num examples = 393\n",
      "  Batch size = 16\n",
      "Saving model checkpoint to RoBERTa-large-PET/checkpoint-99\n",
      "Configuration saved in RoBERTa-large-PET/checkpoint-99/config.json\n",
      "Model weights saved in RoBERTa-large-PET/checkpoint-99/pytorch_model.bin\n",
      "The following columns in the evaluation set don't have a corresponding argument in `RobertaModel.forward` and have been ignored: utterance, Unnamed: 0. If utterance, Unnamed: 0 are not expected by `RobertaModel.forward`,  you can safely ignore this message.\n",
      "***** Running Evaluation *****\n",
      "  Num examples = 393\n",
      "  Batch size = 16\n",
      "Saving model checkpoint to RoBERTa-large-PET/checkpoint-198\n",
      "Configuration saved in RoBERTa-large-PET/checkpoint-198/config.json\n",
      "Model weights saved in RoBERTa-large-PET/checkpoint-198/pytorch_model.bin\n",
      "The following columns in the evaluation set don't have a corresponding argument in `RobertaModel.forward` and have been ignored: utterance, Unnamed: 0. If utterance, Unnamed: 0 are not expected by `RobertaModel.forward`,  you can safely ignore this message.\n",
      "***** Running Evaluation *****\n",
      "  Num examples = 393\n",
      "  Batch size = 16\n",
      "Saving model checkpoint to RoBERTa-large-PET/checkpoint-297\n",
      "Configuration saved in RoBERTa-large-PET/checkpoint-297/config.json\n",
      "Model weights saved in RoBERTa-large-PET/checkpoint-297/pytorch_model.bin\n",
      "The following columns in the evaluation set don't have a corresponding argument in `RobertaModel.forward` and have been ignored: utterance, Unnamed: 0. If utterance, Unnamed: 0 are not expected by `RobertaModel.forward`,  you can safely ignore this message.\n",
      "***** Running Evaluation *****\n",
      "  Num examples = 393\n",
      "  Batch size = 16\n",
      "Saving model checkpoint to RoBERTa-large-PET/checkpoint-396\n",
      "Configuration saved in RoBERTa-large-PET/checkpoint-396/config.json\n",
      "Model weights saved in RoBERTa-large-PET/checkpoint-396/pytorch_model.bin\n",
      "The following columns in the evaluation set don't have a corresponding argument in `RobertaModel.forward` and have been ignored: utterance, Unnamed: 0. If utterance, Unnamed: 0 are not expected by `RobertaModel.forward`,  you can safely ignore this message.\n",
      "***** Running Evaluation *****\n",
      "  Num examples = 393\n",
      "  Batch size = 16\n",
      "Saving model checkpoint to RoBERTa-large-PET/checkpoint-495\n",
      "Configuration saved in RoBERTa-large-PET/checkpoint-495/config.json\n",
      "Model weights saved in RoBERTa-large-PET/checkpoint-495/pytorch_model.bin\n",
      "The following columns in the evaluation set don't have a corresponding argument in `RobertaModel.forward` and have been ignored: utterance, Unnamed: 0. If utterance, Unnamed: 0 are not expected by `RobertaModel.forward`,  you can safely ignore this message.\n",
      "***** Running Evaluation *****\n",
      "  Num examples = 393\n",
      "  Batch size = 16\n",
      "Saving model checkpoint to RoBERTa-large-PET/checkpoint-594\n",
      "Configuration saved in RoBERTa-large-PET/checkpoint-594/config.json\n",
      "Model weights saved in RoBERTa-large-PET/checkpoint-594/pytorch_model.bin\n",
      "The following columns in the evaluation set don't have a corresponding argument in `RobertaModel.forward` and have been ignored: utterance, Unnamed: 0. If utterance, Unnamed: 0 are not expected by `RobertaModel.forward`,  you can safely ignore this message.\n",
      "***** Running Evaluation *****\n",
      "  Num examples = 393\n",
      "  Batch size = 16\n",
      "Saving model checkpoint to RoBERTa-large-PET/checkpoint-693\n",
      "Configuration saved in RoBERTa-large-PET/checkpoint-693/config.json\n",
      "Model weights saved in RoBERTa-large-PET/checkpoint-693/pytorch_model.bin\n",
      "The following columns in the evaluation set don't have a corresponding argument in `RobertaModel.forward` and have been ignored: utterance, Unnamed: 0. If utterance, Unnamed: 0 are not expected by `RobertaModel.forward`,  you can safely ignore this message.\n",
      "***** Running Evaluation *****\n",
      "  Num examples = 393\n",
      "  Batch size = 16\n",
      "Saving model checkpoint to RoBERTa-large-PET/checkpoint-792\n",
      "Configuration saved in RoBERTa-large-PET/checkpoint-792/config.json\n",
      "Model weights saved in RoBERTa-large-PET/checkpoint-792/pytorch_model.bin\n",
      "The following columns in the evaluation set don't have a corresponding argument in `RobertaModel.forward` and have been ignored: utterance, Unnamed: 0. If utterance, Unnamed: 0 are not expected by `RobertaModel.forward`,  you can safely ignore this message.\n",
      "***** Running Evaluation *****\n",
      "  Num examples = 393\n",
      "  Batch size = 16\n",
      "Saving model checkpoint to RoBERTa-large-PET/checkpoint-891\n",
      "Configuration saved in RoBERTa-large-PET/checkpoint-891/config.json\n",
      "Model weights saved in RoBERTa-large-PET/checkpoint-891/pytorch_model.bin\n",
      "The following columns in the evaluation set don't have a corresponding argument in `RobertaModel.forward` and have been ignored: utterance, Unnamed: 0. If utterance, Unnamed: 0 are not expected by `RobertaModel.forward`,  you can safely ignore this message.\n",
      "***** Running Evaluation *****\n",
      "  Num examples = 393\n",
      "  Batch size = 16\n",
      "Saving model checkpoint to RoBERTa-large-PET/checkpoint-990\n",
      "Configuration saved in RoBERTa-large-PET/checkpoint-990/config.json\n",
      "Model weights saved in RoBERTa-large-PET/checkpoint-990/pytorch_model.bin\n",
      "\n",
      "\n",
      "Training completed. Do not forget to share your model on huggingface.co/models =)\n",
      "\n",
      "\n",
      "Loading best model from RoBERTa-large-PET/checkpoint-198 (score: 0.31328779458999634).\n"
     ]
    },
    {
     "data": {
      "text/plain": [
       "TrainOutput(global_step=990, training_loss=0.10312627590063847, metrics={'train_runtime': 999.6714, 'train_samples_per_second': 15.725, 'train_steps_per_second': 0.99, 'total_flos': 7324980515758080.0, 'train_loss': 0.10312627590063847, 'epoch': 10.0})"
      ]
     },
     "execution_count": 65,
     "metadata": {},
     "output_type": "execute_result"
    }
   ],
   "source": [
    "trainer = MyTrainer(\n",
    "    model_init=model_init,\n",
    "    args=trainer_args,\n",
    "    train_dataset=train_tokenized,\n",
    "    # eval_dataset=val_tokenized,\n",
    "    eval_dataset = test_tokenized,\n",
    "    compute_metrics=compute_metrics,\n",
    ")\n",
    "\n",
    "trainer.train()"
   ]
  },
  {
   "cell_type": "code",
   "execution_count": null,
   "id": "f2c9d21e-0c03-4355-ad14-c93db8eecb98",
   "metadata": {},
   "outputs": [],
   "source": []
  }
 ],
 "metadata": {
  "kernelspec": {
   "display_name": "euphemisms",
   "language": "python",
   "name": "euphemisms"
  },
  "language_info": {
   "codemirror_mode": {
    "name": "ipython",
    "version": 3
   },
   "file_extension": ".py",
   "mimetype": "text/x-python",
   "name": "python",
   "nbconvert_exporter": "python",
   "pygments_lexer": "ipython3",
   "version": "3.7.15"
  }
 },
 "nbformat": 4,
 "nbformat_minor": 5
}
